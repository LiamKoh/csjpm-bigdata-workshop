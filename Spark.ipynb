{
 "cells": [
  {
   "cell_type": "markdown",
   "metadata": {
    "collapsed": true
   },
   "source": [
    "# Introduction to Spark"
   ]
  },
  {
   "cell_type": "markdown",
   "metadata": {},
   "source": [
    "In this notebook, you will be introduced to the Apache Spark libary for big data processing. In order to use this notebook, you must openit with `pyspark` rather than `ipython` or `jupyter`. `pyspark` will automatically load some of the Spark internals for you. In particular, the variable `sc` is a Spark context. Check that it is correctly initialised:"
   ]
  },
  {
   "cell_type": "code",
   "execution_count": 2,
   "metadata": {
    "collapsed": false
   },
   "outputs": [
    {
     "name": "stdout",
     "output_type": "stream",
     "text": [
      "<pyspark.context.SparkContext object at 0x00000000043DA9B0>\n",
      "Ready to go!\n"
     ]
    }
   ],
   "source": [
    "sc = SparkContext.getOrCreate()\n",
    "\n",
    "print sc\n",
    "print \"Ready to go!\""
   ]
  },
  {
   "cell_type": "markdown",
   "metadata": {},
   "source": [
    "### Learning activity: Create RDDs"
   ]
  },
  {
   "cell_type": "markdown",
   "metadata": {},
   "source": [
    "To analyse large datasets using Spark you will load them into Resilient Distributed Datasets (RDDs). There are a number of ways in which you can create RDDs. Use the `parallelize()` function to create one from a Python collection, and use the `textFile()` function to create an RDD from the file `war-and-peace.txt`. "
   ]
  },
  {
   "cell_type": "code",
   "execution_count": 3,
   "metadata": {
    "collapsed": false
   },
   "outputs": [],
   "source": [
    "coll_rdd = sc.parallelize([1,2,3])"
   ]
  },
  {
   "cell_type": "code",
   "execution_count": 4,
   "metadata": {
    "collapsed": false
   },
   "outputs": [
    {
     "data": {
      "text/plain": [
       "war-and-peace.txt MapPartitionsRDD[2] at textFile at <unknown>:0"
      ]
     },
     "execution_count": 4,
     "metadata": {},
     "output_type": "execute_result"
    }
   ],
   "source": [
    "wap_rdd = sc.textFile('war-and-peace.txt')\n",
    "wap_rdd"
   ]
  },
  {
   "cell_type": "markdown",
   "metadata": {},
   "source": [
    "### Learning activity: Basic RDD manipulation"
   ]
  },
  {
   "cell_type": "markdown",
   "metadata": {},
   "source": [
    "Print the number of lines in War and Peace, and the first 15 lines using the functions `count()` and `take()`."
   ]
  },
  {
   "cell_type": "code",
   "execution_count": 5,
   "metadata": {
    "collapsed": false
   },
   "outputs": [
    {
     "data": {
      "text/plain": [
       "war-and-peace.txt MapPartitionsRDD[2] at textFile at <unknown>:0"
      ]
     },
     "execution_count": 5,
     "metadata": {},
     "output_type": "execute_result"
    }
   ],
   "source": [
    "wap_rdd"
   ]
  },
  {
   "cell_type": "code",
   "execution_count": 6,
   "metadata": {
    "collapsed": false
   },
   "outputs": [
    {
     "data": {
      "text/plain": [
       "[u'                                      1869',\n",
       " u'                                 WAR AND PEACE',\n",
       " u'                                 by Leo Tolstoy',\n",
       " u'BK1',\n",
       " u'                                 BOOK ONE: 1805',\n",
       " u'BK1|CH1',\n",
       " u'  CHAPTER I',\n",
       " u'',\n",
       " u'  \"Well, Prince, so Genoa and Lucca are now just family estates of the',\n",
       " u\"Buonapartes. But I warn you, if you don't tell me that this means war,\",\n",
       " u'if you still try to defend the infamies and horrors perpetrated by',\n",
       " u'that Antichrist- I really believe he is Antichrist- I will have',\n",
       " u'nothing more to do with you and you are no longer my friend, no longer',\n",
       " u\"my 'faithful slave,' as you call yourself! But how do you do? I see\",\n",
       " u'I have frightened you- sit down and tell me all the news.\"']"
      ]
     },
     "execution_count": 6,
     "metadata": {},
     "output_type": "execute_result"
    }
   ],
   "source": [
    "wap_rdd.take(15)"
   ]
  },
  {
   "cell_type": "code",
   "execution_count": 7,
   "metadata": {
    "collapsed": false
   },
   "outputs": [
    {
     "name": "stdout",
     "output_type": "stream",
     "text": [
      "                                      1869\n",
      "                                 WAR AND PEACE\n",
      "                                 by Leo Tolstoy\n",
      "BK1\n",
      "                                 BOOK ONE: 1805\n",
      "BK1|CH1\n",
      "  CHAPTER I\n",
      "\n",
      "  \"Well, Prince, so Genoa and Lucca are now just family estates of the\n",
      "Buonapartes. But I warn you, if you don't tell me that this means war,\n",
      "if you still try to defend the infamies and horrors perpetrated by\n",
      "that Antichrist- I really believe he is Antichrist- I will have\n",
      "nothing more to do with you and you are no longer my friend, no longer\n",
      "my 'faithful slave,' as you call yourself! But how do you do? I see\n",
      "I have frightened you- sit down and tell me all the news.\"\n"
     ]
    }
   ],
   "source": [
    "for l in wap_rdd.take(15):\n",
    "    print(l)"
   ]
  },
  {
   "cell_type": "markdown",
   "metadata": {},
   "source": [
    "### Learning activity: `filter()` and `map()` and `distinct()`"
   ]
  },
  {
   "cell_type": "markdown",
   "metadata": {},
   "source": [
    "Lets apply some transformations onto RDDs. The following helper function will be useful to select the words from a line."
   ]
  },
  {
   "cell_type": "code",
   "execution_count": 8,
   "metadata": {
    "collapsed": false,
    "scrolled": true
   },
   "outputs": [
    {
     "name": "stdout",
     "output_type": "stream",
     "text": [
      "['This', 'is', 'a', 'test']\n"
     ]
    }
   ],
   "source": [
    "# A helper function to compute the list of words in a line of text\n",
    "import re\n",
    "def get_words(line):\n",
    "    return re.compile('\\w+').findall(line)\n",
    "\n",
    "print get_words(\"This, is a test!\")"
   ]
  },
  {
   "cell_type": "markdown",
   "metadata": {},
   "source": [
    "Use `filter()` to count the number of lines which mention `war` and the number of lines which mention `peace`."
   ]
  },
  {
   "cell_type": "code",
   "execution_count": 9,
   "metadata": {
    "collapsed": false
   },
   "outputs": [
    {
     "name": "stdout",
     "output_type": "stream",
     "text": [
      "265\n",
      "104\n"
     ]
    }
   ],
   "source": [
    "# How often are war and peace mentioned?\n",
    "war_rdd = wap_rdd.filter(lambda line: 'war' in get_words(line))\n",
    "peace_rdd = wap_rdd.filter(lambda line: 'peace' in get_words(line))\n",
    "\n",
    "print(war_rdd.count())\n",
    "print(peace_rdd.count())"
   ]
  },
  {
   "cell_type": "markdown",
   "metadata": {},
   "source": [
    "Use `map()` to capitalise each line in the RDD, and print the first 15 capitalized lines."
   ]
  },
  {
   "cell_type": "code",
   "execution_count": 10,
   "metadata": {
    "collapsed": false
   },
   "outputs": [
    {
     "data": {
      "text/plain": [
       "[u'                                      1869',\n",
       " u'                                 war and peace',\n",
       " u'                                 by leo tolstoy',\n",
       " u'Bk1',\n",
       " u'                                 book one: 1805',\n",
       " u'Bk1|ch1',\n",
       " u'  chapter i',\n",
       " u'',\n",
       " u'  \"well, prince, so genoa and lucca are now just family estates of the',\n",
       " u\"Buonapartes. but i warn you, if you don't tell me that this means war,\",\n",
       " u'If you still try to defend the infamies and horrors perpetrated by',\n",
       " u'That antichrist- i really believe he is antichrist- i will have',\n",
       " u'Nothing more to do with you and you are no longer my friend, no longer',\n",
       " u\"My 'faithful slave,' as you call yourself! but how do you do? i see\",\n",
       " u'I have frightened you- sit down and tell me all the news.\"']"
      ]
     },
     "execution_count": 10,
     "metadata": {},
     "output_type": "execute_result"
    }
   ],
   "source": [
    "# Capitalize each line in the RDD\n",
    "wap_rdd.map(lambda line: line.capitalize()).take(15)"
   ]
  },
  {
   "cell_type": "markdown",
   "metadata": {},
   "source": [
    "Use `flatMap()` to create an RDD of the words in War and Peace and count the number of words."
   ]
  },
  {
   "cell_type": "code",
   "execution_count": 11,
   "metadata": {
    "collapsed": false
   },
   "outputs": [
    {
     "data": {
      "text/plain": [
       "573322"
      ]
     },
     "execution_count": 11,
     "metadata": {},
     "output_type": "execute_result"
    }
   ],
   "source": [
    "# Split each line into words using get_words()\n",
    "wap_words_rdd = wap_rdd.flatMap(lambda line: get_words(line))\n",
    "wap_words_rdd.count()"
   ]
  },
  {
   "cell_type": "markdown",
   "metadata": {},
   "source": [
    "Finally, use `distinct()` to count the number of different words in the RDD."
   ]
  },
  {
   "cell_type": "code",
   "execution_count": 12,
   "metadata": {
    "collapsed": false
   },
   "outputs": [
    {
     "data": {
      "text/plain": [
       "19206"
      ]
     },
     "execution_count": 12,
     "metadata": {},
     "output_type": "execute_result"
    }
   ],
   "source": [
    "# Count the number of distinct words\n",
    "wap_words_rdd.distinct().count()"
   ]
  },
  {
   "cell_type": "markdown",
   "metadata": {},
   "source": [
    "### Learning activity: Set like transformations"
   ]
  },
  {
   "cell_type": "markdown",
   "metadata": {},
   "source": [
    "Use the functions `union()` and `intersection()` to create RDDs of lines with either war or peace mentioned, and both war and peace being mentioned. Count how many lines of each type there are and print some examples."
   ]
  },
  {
   "cell_type": "code",
   "execution_count": 13,
   "metadata": {
    "collapsed": false,
    "scrolled": true
   },
   "outputs": [
    {
     "name": "stdout",
     "output_type": "stream",
     "text": [
      "369\n",
      "7\n"
     ]
    }
   ],
   "source": [
    "war_u_peace = war_rdd.union(peace_rdd)\n",
    "war_i_peace = war_rdd.intersection(peace_rdd)\n",
    "\n",
    "print war_u_peace.count()\n",
    "print war_i_peace.count()"
   ]
  },
  {
   "cell_type": "markdown",
   "metadata": {},
   "source": [
    "### Learning activity: `reduce()`"
   ]
  },
  {
   "cell_type": "markdown",
   "metadata": {},
   "source": [
    "You have already seen three actions: `collect()` which returns all elements in the RDD, `take(n)`, which return the first `n` elements of the RDD, and `count()` which returns the number of elements in the RDD.\n",
    "\n",
    "The action `reduce()` takes as input a function which collapses two elements into one. Use it to find the longest word in War and Peace."
   ]
  },
  {
   "cell_type": "code",
   "execution_count": 14,
   "metadata": {
    "collapsed": false
   },
   "outputs": [
    {
     "data": {
      "text/plain": [
       "u'characteristically'"
      ]
     },
     "execution_count": 14,
     "metadata": {},
     "output_type": "execute_result"
    }
   ],
   "source": [
    "wap_words_rdd.distinct().reduce(lambda x, y: x if len(x) > len(y) else y)"
   ]
  },
  {
   "cell_type": "markdown",
   "metadata": {},
   "source": [
    "### Bonus activity: merging filters"
   ]
  },
  {
   "cell_type": "markdown",
   "metadata": {},
   "source": [
    "Find all the lines that mention both war and peace **without** using `intersection()`."
   ]
  },
  {
   "cell_type": "code",
   "execution_count": 15,
   "metadata": {
    "collapsed": false
   },
   "outputs": [
    {
     "data": {
      "text/plain": [
       "PythonRDD[31] at RDD at PythonRDD.scala:48"
      ]
     },
     "execution_count": 15,
     "metadata": {},
     "output_type": "execute_result"
    }
   ],
   "source": [
    "wap_rdd.filter(lambda line: 'war' in get_words(line)).filter(lambda line: 'peace' in get_words(line))"
   ]
  },
  {
   "cell_type": "markdown",
   "metadata": {},
   "source": [
    "### Bonus activity: Finding proper nouns"
   ]
  },
  {
   "cell_type": "markdown",
   "metadata": {},
   "source": [
    "The Python function `str.istitle()` returns `True` if the string `str` is titlecased: the first character is uppercase and others are lowercase. Use it to:\n",
    "* Find the set of distinct words in War and Peace which are titlecased\n",
    "* Find the set of distinct words in War and Peace which are not titlecased"
   ]
  },
  {
   "cell_type": "code",
   "execution_count": 16,
   "metadata": {
    "collapsed": false
   },
   "outputs": [],
   "source": [
    "istitle_word = wap_words_rdd.distinct().filter(lambda x: x.istitle())\n",
    "isntitle_word = wap_words_rdd.distinct().filter(lambda x: not(x.istitle()))"
   ]
  },
  {
   "cell_type": "markdown",
   "metadata": {},
   "source": [
    "The Python function `str.lower` returns a string with all characters of `str` lowercase. Use it, along with your previously generated RDD to find the set of words in War and Peace which only appear titlecased."
   ]
  },
  {
   "cell_type": "code",
   "execution_count": 17,
   "metadata": {
    "collapsed": false
   },
   "outputs": [
    {
     "name": "stdout",
     "output_type": "stream",
     "text": [
      "1541\n",
      "[u'bennigsens', u'gwiska', u'melyukova', u'hosjeradek', u'femgalka', u'jacob', u'karagina', u'maksim', u'nostitz', u'bolotnoe']\n"
     ]
    }
   ],
   "source": [
    "x = istitle_word.map(lambda x: x.lower())\n",
    "y = isntitle_word.map(lambda x: x.lower())\n",
    "\n",
    "only_istitle_word = x.subtract(y)\n",
    "print(only_istitle_word.count())\n",
    "print(only_istitle_word.take(10))"
   ]
  },
  {
   "cell_type": "markdown",
   "metadata": {},
   "source": [
    "### Learning activity: Partitions"
   ]
  },
  {
   "cell_type": "markdown",
   "metadata": {},
   "source": [
    "Load War and peace using a minimum of four partitions and use `getNumPartitions()` to show the resulting number used."
   ]
  },
  {
   "cell_type": "code",
   "execution_count": 18,
   "metadata": {
    "collapsed": false
   },
   "outputs": [
    {
     "name": "stdout",
     "output_type": "stream",
     "text": [
      "2\n",
      "4\n"
     ]
    }
   ],
   "source": [
    "print wap_rdd.getNumPartitions()\n",
    "\n",
    "wap_rdd_4parti = sc.textFile('war-and-peace.txt', minPartitions=4)\n",
    "print wap_rdd_4parti.getNumPartitions()"
   ]
  },
  {
   "cell_type": "markdown",
   "metadata": {},
   "source": [
    "# Key/Value pairs in Spark"
   ]
  },
  {
   "cell_type": "markdown",
   "metadata": {
    "collapsed": true
   },
   "source": [
    "### Learning activity: WordCount in Spark"
   ]
  },
  {
   "cell_type": "markdown",
   "metadata": {},
   "source": [
    "Use the functions `flatMap()` and `reduceByKey()` to count the number of occurences of each word in War and Peace, and print the count of five words."
   ]
  },
  {
   "cell_type": "code",
   "execution_count": 19,
   "metadata": {
    "collapsed": false
   },
   "outputs": [
    {
     "data": {
      "text/plain": [
       "[(u'Saints', 1),\n",
       " (u'nunnery', 3),\n",
       " (u'worshiped', 1),\n",
       " (u'yellow', 20),\n",
       " (u'four', 98)]"
      ]
     },
     "execution_count": 19,
     "metadata": {},
     "output_type": "execute_result"
    }
   ],
   "source": [
    "res = wap_words_rdd.map(lambda x: (x, 1))\n",
    "res = res.reduceByKey(lambda x, y: x + y)\n",
    "res.take(5)"
   ]
  },
  {
   "cell_type": "markdown",
   "metadata": {},
   "source": [
    "### Learning activity: using `groupByKey()`"
   ]
  },
  {
   "cell_type": "markdown",
   "metadata": {},
   "source": [
    "Reimplement the above word count using `groupByKey()` instead of `reduceByKey()`"
   ]
  },
  {
   "cell_type": "code",
   "execution_count": 20,
   "metadata": {
    "collapsed": false
   },
   "outputs": [
    {
     "data": {
      "text/plain": [
       "[(u'Saints', 1),\n",
       " (u'nunnery', 3),\n",
       " (u'worshiped', 1),\n",
       " (u'yellow', 20),\n",
       " (u'four', 98)]"
      ]
     },
     "execution_count": 20,
     "metadata": {},
     "output_type": "execute_result"
    }
   ],
   "source": [
    "res = wap_words_rdd.map(lambda x: (x, 1))\n",
    "res = res.groupByKey().mapValues(len)\n",
    "res.take(5)"
   ]
  },
  {
   "cell_type": "markdown",
   "metadata": {},
   "source": [
    "### Learning activity: computing the average of each key"
   ]
  },
  {
   "cell_type": "markdown",
   "metadata": {},
   "source": [
    "The pair RDD defined below `word_line_pairs` has an element for each line in War and Peace with as key the first word, and as value the line itself. Use it to compute the average length of each line for each starting word."
   ]
  },
  {
   "cell_type": "code",
   "execution_count": 28,
   "metadata": {
    "collapsed": false
   },
   "outputs": [
    {
     "data": {
      "text/plain": [
       "[(u'', 0), (u'shouted,', 304), (u'shouted.', 8)]"
      ]
     },
     "execution_count": 28,
     "metadata": {},
     "output_type": "execute_result"
    }
   ],
   "source": [
    "word_line_pairs = wap_rdd.map(lambda x: (x.strip().split(' ', 1)[0], x))\n",
    "word_line_pairs.take(10)\n",
    "\n",
    "def avg_len(x):\n",
    "    leng = 0\n",
    "    for i in x:\n",
    "        leng += len(i)\n",
    "    return leng\n",
    "\n",
    "avg_start_word_len = word_line_pairs.groupByKey() \\\n",
    "                                    .mapValues(avg_len)\n",
    "    \n",
    "avg_start_word_len.take(3)"
   ]
  },
  {
   "cell_type": "markdown",
   "metadata": {},
   "source": [
    "# Spark in Practice"
   ]
  },
  {
   "cell_type": "markdown",
   "metadata": {},
   "source": [
    "### Learning activity: Use an accumulator\n",
    "Reimplement the definition of the `word` (re-expressed below) RDD to count blank lines as you process it."
   ]
  },
  {
   "cell_type": "code",
   "execution_count": 22,
   "metadata": {
    "collapsed": false
   },
   "outputs": [
    {
     "name": "stdout",
     "output_type": "stream",
     "text": [
      "573322\n",
      "Blank lines count: 761\n"
     ]
    }
   ],
   "source": [
    "# Old definition of words\n",
    "lines = sc.textFile('war-and-peace.txt')\n",
    "words = lines.flatMap(lambda line: get_words(line))\n",
    "\n",
    "blank_lines = sc.accumulator(0)\n",
    "\n",
    "def get_words_count_blank(line):\n",
    "    global blank_lines\n",
    "    if line == '':\n",
    "        blank_lines += 1\n",
    "    return get_words(line)\n",
    "\n",
    "words = lines.flatMap(get_words_count_blank)\n",
    "\n",
    "# Important to run count() before printing blank lines count\n",
    "# Only actions would activate the accumulator, not transforms\n",
    "print words.count()\n",
    "print \"Blank lines count: \" + str(blank_lines.value)"
   ]
  },
  {
   "cell_type": "markdown",
   "metadata": {},
   "source": [
    "### Learning activity: Implement the same program with an action"
   ]
  },
  {
   "cell_type": "code",
   "execution_count": 23,
   "metadata": {
    "collapsed": false
   },
   "outputs": [
    {
     "data": {
      "text/plain": [
       "761"
      ]
     },
     "execution_count": 23,
     "metadata": {},
     "output_type": "execute_result"
    }
   ],
   "source": [
    "lines.filter(lambda x: x == '').count()"
   ]
  },
  {
   "cell_type": "markdown",
   "metadata": {},
   "source": [
    "### Learning activity: compare the amount of data shuffled with SparkUI\n",
    "Using Spark UI, compare the amount of data shuffled by each of the following two (equivalent) computations:"
   ]
  },
  {
   "cell_type": "code",
   "execution_count": 24,
   "metadata": {
    "collapsed": false
   },
   "outputs": [
    {
     "data": {
      "text/plain": [
       "4536"
      ]
     },
     "execution_count": 24,
     "metadata": {},
     "output_type": "execute_result"
    }
   ],
   "source": [
    "distinct_words = words.distinct()\n",
    "short_distinct_words = distinct_words.filter(lambda x: len(x)<6)\n",
    "short_distinct_words.count()"
   ]
  },
  {
   "cell_type": "code",
   "execution_count": 25,
   "metadata": {
    "collapsed": false
   },
   "outputs": [
    {
     "data": {
      "text/plain": [
       "4536"
      ]
     },
     "execution_count": 25,
     "metadata": {},
     "output_type": "execute_result"
    }
   ],
   "source": [
    "short_words = words.filter(lambda x: len(x)<6)\n",
    "short_distinct_words = short_words.distinct()\n",
    "short_distinct_words.count()"
   ]
  },
  {
   "cell_type": "markdown",
   "metadata": {},
   "source": [
    "Similarly, re-execute the two versions of word count you implemented before and compare the amount of data shuffled using `reduceByKey()` and using `groupByKey()`."
   ]
  },
  {
   "cell_type": "code",
   "execution_count": 26,
   "metadata": {
    "collapsed": false
   },
   "outputs": [
    {
     "name": "stdout",
     "output_type": "stream",
     "text": [
      "There are 369 lines with either war or peace, some of them are:\n",
      "Buonapartes. But I warn you, if you don't tell me that this means war,\n",
      "things, but Austria never has wished, and does not wish, for war.\n",
      "to get himself killed. Tell me what this wretched war is for?\" she\n",
      "  \"You are off to the war, Prince?\" said Anna Pavlovna.\n",
      "tell you. There is a war now against Napoleon. If it were a war for\n",
      "------------------------------------------\n",
      "There are 7 lines with both war and peace, some of them are:\n",
      "blamed,\" he said, \"both for that war and the peace... but everything\n",
      "peace nor war, neither an advance nor a defensive camp at the Drissa\n",
      "perpetual peace and the abolition of war, and secondly, by the fact\n",
      "war and the peace that had been concluded. \"Yes, I have been much\n",
      "  \"To enter Russia without declaring war! I will not make peace as\n"
     ]
    }
   ],
   "source": [
    "warLines = lines.filter(lambda line: \"war\" in get_words(line))\n",
    "peaceLines = lines.filter(lambda line: \"peace\" in get_words(line))\n",
    "\n",
    "warAndPeaceLines = warLines.intersection(peaceLines)\n",
    "warOrPeaceLines = warLines.union(peaceLines)\n",
    "\n",
    "print \"There are %d lines with either war or peace, some of them are:\" % warOrPeaceLines.count()\n",
    "for line in warOrPeaceLines.take(5):\n",
    "    print line\n",
    "    \n",
    "print \"------------------------------------------\"\n",
    "\n",
    "print \"There are %d lines with both war and peace, some of them are:\" % warAndPeaceLines.count()\n",
    "for line in warAndPeaceLines.take(5):\n",
    "    print line"
   ]
  },
  {
   "cell_type": "code",
   "execution_count": null,
   "metadata": {
    "collapsed": true
   },
   "outputs": [],
   "source": []
  }
 ],
 "metadata": {
  "kernelspec": {
   "display_name": "Python 2",
   "language": "python",
   "name": "python2"
  },
  "language_info": {
   "codemirror_mode": {
    "name": "ipython",
    "version": 2
   },
   "file_extension": ".py",
   "mimetype": "text/x-python",
   "name": "python",
   "nbconvert_exporter": "python",
   "pygments_lexer": "ipython2",
   "version": "2.7.9"
  }
 },
 "nbformat": 4,
 "nbformat_minor": 0
}
