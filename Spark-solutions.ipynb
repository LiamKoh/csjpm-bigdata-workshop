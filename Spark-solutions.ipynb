{
 "cells": [
  {
   "cell_type": "markdown",
   "metadata": {
    "collapsed": true
   },
   "source": [
    "# Introduction to Spark"
   ]
  },
  {
   "cell_type": "markdown",
   "metadata": {},
   "source": [
    "In this notebook, you will be introduced to the Apache Spark libary for big data processing. In order to use this notebook, you must openit with `pyspark` rather than `ipython` or `jupyter`. `pyspark` will automatically load some of the Spark internals for you. In particular, the variable `sc` is a Spark context. Check that it is correctly initialised:"
   ]
  },
  {
   "cell_type": "code",
   "execution_count": 1,
   "metadata": {
    "collapsed": false
   },
   "outputs": [
    {
     "name": "stdout",
     "output_type": "stream",
     "text": [
      "<pyspark.context.SparkContext object at 0x7ff6921d1990>\n",
      "Ready to go!\n"
     ]
    }
   ],
   "source": [
    "print sc\n",
    "print \"Ready to go!\""
   ]
  },
  {
   "cell_type": "markdown",
   "metadata": {},
   "source": [
    "You will use `matplotlib` and `numpy` to diplay summary graphs of the datasets you are analysing. Load these libraries."
   ]
  },
  {
   "cell_type": "code",
   "execution_count": 2,
   "metadata": {
    "collapsed": false
   },
   "outputs": [
    {
     "name": "stderr",
     "output_type": "stream",
     "text": [
      "/home/valentin/anaconda2/lib/python2.7/site-packages/matplotlib/font_manager.py:273: UserWarning: Matplotlib is building the font cache using fc-list. This may take a moment.\n",
      "  warnings.warn('Matplotlib is building the font cache using fc-list. This may take a moment.')\n"
     ]
    }
   ],
   "source": [
    "import numpy as np\n",
    "import matplotlib.pyplot as plt\n",
    "%matplotlib inline"
   ]
  },
  {
   "cell_type": "markdown",
   "metadata": {},
   "source": [
    "### Learning activity: Create RDDs"
   ]
  },
  {
   "cell_type": "markdown",
   "metadata": {},
   "source": [
    "To analyse large datasets using Spark you will load them into Resilient Distributed Datasets (RDDs). There are a number of ways in which you can create RDDs. Use the `parallelize()` function to create one from a Python collection, and use the `textFile()` function to create an RDD from the file `war-and-peace.txt`. "
   ]
  },
  {
   "cell_type": "code",
   "execution_count": 3,
   "metadata": {
    "collapsed": false
   },
   "outputs": [
    {
     "name": "stdout",
     "output_type": "stream",
     "text": [
      "ParallelCollectionRDD[0] at parallelize at PythonRDD.scala:475\n"
     ]
    }
   ],
   "source": [
    "rdd = sc.parallelize([1,2,3,4])\n",
    "print rdd"
   ]
  },
  {
   "cell_type": "code",
   "execution_count": 4,
   "metadata": {
    "collapsed": true
   },
   "outputs": [],
   "source": [
    "lines = sc.textFile(\"war-and-peace.txt\")"
   ]
  },
  {
   "cell_type": "markdown",
   "metadata": {},
   "source": [
    "### Learning activity: Basic RDD manipulation"
   ]
  },
  {
   "cell_type": "markdown",
   "metadata": {},
   "source": [
    "Print the number of lines in War and Peace, and the first 15 lines using the functions `count()` and `take()`."
   ]
  },
  {
   "cell_type": "code",
   "execution_count": 5,
   "metadata": {
    "collapsed": false
   },
   "outputs": [
    {
     "name": "stdout",
     "output_type": "stream",
     "text": [
      "War and Peace has 54223 lines.\n"
     ]
    }
   ],
   "source": [
    "print \"War and Peace has %d lines.\" % lines.count()"
   ]
  },
  {
   "cell_type": "code",
   "execution_count": 6,
   "metadata": {
    "collapsed": false,
    "scrolled": true
   },
   "outputs": [
    {
     "name": "stdout",
     "output_type": "stream",
     "text": [
      "                                      1869\n",
      "                                 WAR AND PEACE\n",
      "                                 by Leo Tolstoy\n",
      "BK1\n",
      "                                 BOOK ONE: 1805\n",
      "BK1|CH1\n",
      "  CHAPTER I\n",
      "\n",
      "  \"Well, Prince, so Genoa and Lucca are now just family estates of the\n",
      "Buonapartes. But I warn you, if you don't tell me that this means war,\n",
      "if you still try to defend the infamies and horrors perpetrated by\n",
      "that Antichrist- I really believe he is Antichrist- I will have\n",
      "nothing more to do with you and you are no longer my friend, no longer\n",
      "my 'faithful slave,' as you call yourself! But how do you do? I see\n",
      "I have frightened you- sit down and tell me all the news.\"\n"
     ]
    }
   ],
   "source": [
    "for line in lines.take(15):\n",
    "    print line"
   ]
  },
  {
   "cell_type": "markdown",
   "metadata": {},
   "source": [
    "### Learning activity: `filter()` and `map()` and `distinct()`"
   ]
  },
  {
   "cell_type": "markdown",
   "metadata": {},
   "source": [
    "Lets apply some transformations onto RDDs. The following helper function will be useful to select the words from a line."
   ]
  },
  {
   "cell_type": "code",
   "execution_count": 7,
   "metadata": {
    "collapsed": false,
    "scrolled": true
   },
   "outputs": [
    {
     "name": "stdout",
     "output_type": "stream",
     "text": [
      "['This', 'is', 'a', 'test']\n"
     ]
    }
   ],
   "source": [
    "# A helper function to compute the list of words in a line of text\n",
    "import re\n",
    "def get_words(line):\n",
    "    return re.compile('\\w+').findall(line)\n",
    "\n",
    "print get_words(\"This, is a test!\")"
   ]
  },
  {
   "cell_type": "markdown",
   "metadata": {},
   "source": [
    "Use `filter()` to count the number of lines which mention `war` and the number of lines which mention `peace`."
   ]
  },
  {
   "cell_type": "code",
   "execution_count": 8,
   "metadata": {
    "collapsed": false
   },
   "outputs": [
    {
     "name": "stdout",
     "output_type": "stream",
     "text": [
      "There are 265 lines mentioning war.\n",
      "There are 104 lines mentioning peace.\n"
     ]
    }
   ],
   "source": [
    "# How often are war and peace mentioned?\n",
    "warLines = lines.filter(lambda line: \"war\" in get_words(line))\n",
    "print \"There are %d lines mentioning war.\" % warLines.count()\n",
    "\n",
    "peaceLines = lines.filter(lambda line: \"peace\" in get_words(line))\n",
    "print \"There are %d lines mentioning peace.\" % peaceLines.count()"
   ]
  },
  {
   "cell_type": "markdown",
   "metadata": {},
   "source": [
    "Use `map()` to capitalise each line in the RDD, and print the first 15 capitalized lines."
   ]
  },
  {
   "cell_type": "code",
   "execution_count": 9,
   "metadata": {
    "collapsed": false
   },
   "outputs": [
    {
     "name": "stdout",
     "output_type": "stream",
     "text": [
      "                                      1869\n",
      "                                 WAR AND PEACE\n",
      "                                 BY LEO TOLSTOY\n",
      "BK1\n",
      "                                 BOOK ONE: 1805\n",
      "BK1|CH1\n",
      "  CHAPTER I\n",
      "\n",
      "  \"WELL, PRINCE, SO GENOA AND LUCCA ARE NOW JUST FAMILY ESTATES OF THE\n",
      "BUONAPARTES. BUT I WARN YOU, IF YOU DON'T TELL ME THAT THIS MEANS WAR,\n",
      "IF YOU STILL TRY TO DEFEND THE INFAMIES AND HORRORS PERPETRATED BY\n",
      "THAT ANTICHRIST- I REALLY BELIEVE HE IS ANTICHRIST- I WILL HAVE\n",
      "NOTHING MORE TO DO WITH YOU AND YOU ARE NO LONGER MY FRIEND, NO LONGER\n",
      "MY 'FAITHFUL SLAVE,' AS YOU CALL YOURSELF! BUT HOW DO YOU DO? I SEE\n",
      "I HAVE FRIGHTENED YOU- SIT DOWN AND TELL ME ALL THE NEWS.\"\n"
     ]
    }
   ],
   "source": [
    "# Capitalize each line in the RDD\n",
    "upperLines = lines.map(lambda line: line.upper())\n",
    "for line in upperLines.take(15):\n",
    "    print line"
   ]
  },
  {
   "cell_type": "markdown",
   "metadata": {},
   "source": [
    "Use `flatMap()` to create an RDD of the words in War and Peace and count the number of words."
   ]
  },
  {
   "cell_type": "code",
   "execution_count": 10,
   "metadata": {
    "collapsed": false
   },
   "outputs": [
    {
     "name": "stdout",
     "output_type": "stream",
     "text": [
      "There are 573322 words in War and Peace.\n"
     ]
    }
   ],
   "source": [
    "# Split each line into words using get_words()\n",
    "words = lines.flatMap(lambda line: get_words(line))\n",
    "print \"There are %d words in War and Peace.\" % words.count()"
   ]
  },
  {
   "cell_type": "markdown",
   "metadata": {},
   "source": [
    "Finally, use `distinct()` to count the number of different words in the RDD."
   ]
  },
  {
   "cell_type": "code",
   "execution_count": 11,
   "metadata": {
    "collapsed": false
   },
   "outputs": [
    {
     "name": "stdout",
     "output_type": "stream",
     "text": [
      "There are 19206 distinct words in War and Peace.\n"
     ]
    }
   ],
   "source": [
    "# Count the number of distinct words\n",
    "vocabulary = words.distinct()\n",
    "print \"There are %d distinct words in War and Peace.\" % vocabulary.count() "
   ]
  },
  {
   "cell_type": "markdown",
   "metadata": {},
   "source": [
    "### Learning activity: Set like transformations"
   ]
  },
  {
   "cell_type": "markdown",
   "metadata": {},
   "source": [
    "Use the functions `union()` and `intersection()` to create RDDs of lines with either war or peace mentioned, and both war and peace being mentioned. Count how many lines of each type there are and print some examples."
   ]
  },
  {
   "cell_type": "code",
   "execution_count": 12,
   "metadata": {
    "collapsed": false,
    "scrolled": true
   },
   "outputs": [
    {
     "name": "stdout",
     "output_type": "stream",
     "text": [
      "There are 369 lines with either war or peace, some of them are:\n",
      "Buonapartes. But I warn you, if you don't tell me that this means war,\n",
      "things, but Austria never has wished, and does not wish, for war.\n",
      "to get himself killed. Tell me what this wretched war is for?\" she\n",
      "  \"You are off to the war, Prince?\" said Anna Pavlovna.\n",
      "tell you. There is a war now against Napoleon. If it were a war for\n",
      "------------------------------------------\n",
      "There are 7 lines with both war and peace, some of them are:\n",
      "blamed,\" he said, \"both for that war and the peace... but everything\n",
      "peace nor war, neither an advance nor a defensive camp at the Drissa\n",
      "perpetual peace and the abolition of war, and secondly, by the fact\n",
      "war and the peace that had been concluded. \"Yes, I have been much\n",
      "  \"To enter Russia without declaring war! I will not make peace as\n"
     ]
    }
   ],
   "source": [
    "warLines = lines.filter(lambda line: \"war\" in get_words(line))\n",
    "peaceLines = lines.filter(lambda line: \"peace\" in get_words(line))\n",
    "\n",
    "warAndPeaceLines = warLines.intersection(peaceLines)\n",
    "warOrPeaceLines = warLines.union(peaceLines)\n",
    "\n",
    "print \"There are %d lines with either war or peace, some of them are:\" % warOrPeaceLines.count()\n",
    "for line in warOrPeaceLines.take(5):\n",
    "    print line\n",
    "    \n",
    "print \"------------------------------------------\"\n",
    "\n",
    "print \"There are %d lines with both war and peace, some of them are:\" % warAndPeaceLines.count()\n",
    "for line in warAndPeaceLines.take(5):\n",
    "    print line"
   ]
  },
  {
   "cell_type": "markdown",
   "metadata": {},
   "source": [
    "### Learning activity: `reduce()`"
   ]
  },
  {
   "cell_type": "markdown",
   "metadata": {},
   "source": [
    "You have already seen three actions: `collect()` which returns all elements in the RDD, `take(n)`, which return the first `n` elements of the RDD, and `count()` which returns the number of elements in the RDD.\n",
    "\n",
    "The action `reduce()` takes as input a function which collapses two elements into one. Use it to find the longest word in War and Peace."
   ]
  },
  {
   "cell_type": "code",
   "execution_count": 13,
   "metadata": {
    "collapsed": false
   },
   "outputs": [
    {
     "name": "stdout",
     "output_type": "stream",
     "text": [
      "The longest word in war and peace is:\n",
      "characteristically\n"
     ]
    }
   ],
   "source": [
    "print \"The longest word in war and peace is:\"\n",
    "print words.reduce(lambda x, y: x if len(x)>len(y) else y)"
   ]
  },
  {
   "cell_type": "markdown",
   "metadata": {},
   "source": [
    "### Bonus activity: merging filters"
   ]
  },
  {
   "cell_type": "markdown",
   "metadata": {},
   "source": [
    "Find all the lines that mention both war and peace **without** using `intersection()`."
   ]
  },
  {
   "cell_type": "code",
   "execution_count": 14,
   "metadata": {
    "collapsed": false
   },
   "outputs": [
    {
     "data": {
      "text/plain": [
       "7"
      ]
     },
     "execution_count": 14,
     "metadata": {},
     "output_type": "execute_result"
    }
   ],
   "source": [
    "warAndPeaceLines = lines.filter(lambda x: \"war\" in get_words(x) and \"peace\" in get_words(x))\n",
    "warAndPeaceLines.count()"
   ]
  },
  {
   "cell_type": "markdown",
   "metadata": {},
   "source": [
    "### Bonus activity: Finding proper nouns"
   ]
  },
  {
   "cell_type": "markdown",
   "metadata": {},
   "source": [
    "The Python function `str.istitle()` returns `True` if the string `str` is titlecased: the first character is uppercase and others are lowercase. Use it to:\n",
    "* Find the set of distinct words in War and Peace which are titlecased\n",
    "* Find the set of distinct words in War and Peace which are not titlecased"
   ]
  },
  {
   "cell_type": "code",
   "execution_count": 10,
   "metadata": {
    "collapsed": true
   },
   "outputs": [],
   "source": [
    "titled_words = words.filter(lambda word: word.istitle()).distinct()\n",
    "untitled_words = words.filter(lambda word: not word.istitle()).distinct()"
   ]
  },
  {
   "cell_type": "markdown",
   "metadata": {},
   "source": [
    "The Python function `str.lower` returns a string with all characters of `str` lowercase. Use it, along with your previously generated RDD to find the set of words in War and Peace which only appear titlecased."
   ]
  },
  {
   "cell_type": "code",
   "execution_count": 11,
   "metadata": {
    "collapsed": true
   },
   "outputs": [],
   "source": [
    "lower_titles = titled_words.map(lambda word: word.lower())\n",
    "proper_nouns = lower_titles.subtract(untitled_words)"
   ]
  },
  {
   "cell_type": "code",
   "execution_count": 12,
   "metadata": {
    "collapsed": false
   },
   "outputs": [
    {
     "data": {
      "text/plain": [
       "1548"
      ]
     },
     "execution_count": 12,
     "metadata": {},
     "output_type": "execute_result"
    }
   ],
   "source": [
    "proper_nouns.count()"
   ]
  },
  {
   "cell_type": "code",
   "execution_count": 13,
   "metadata": {
    "collapsed": false
   },
   "outputs": [
    {
     "data": {
      "text/plain": [
       "[u'bennigsens',\n",
       " u'gwiska',\n",
       " u'melyukova',\n",
       " u'ilagin',\n",
       " u'hosjeradek',\n",
       " u'femgalka',\n",
       " u'jacob',\n",
       " u'karagina',\n",
       " u'maksim',\n",
       " u'nostitz',\n",
       " u'bolotnoe',\n",
       " u'majesties',\n",
       " u'shinshina',\n",
       " u'paris',\n",
       " u'joshua',\n",
       " u'poltava',\n",
       " u'shinshin',\n",
       " u'nikitski',\n",
       " u'adonai',\n",
       " u'india',\n",
       " u'gibrard',\n",
       " u'vrbna',\n",
       " u'turk',\n",
       " u'frenchies',\n",
       " u'grabern',\n",
       " u'voyna',\n",
       " u'bonapartist',\n",
       " u'sardinian',\n",
       " u'london',\n",
       " u'yaroslavl',\n",
       " u'ecka',\n",
       " u'moyka',\n",
       " u'ignatovich',\n",
       " u'nativity',\n",
       " u'diana',\n",
       " u'fedeshon',\n",
       " u'vrazhek',\n",
       " u'collector',\n",
       " u'peterkin',\n",
       " u'sukhtelen',\n",
       " u'chatrov',\n",
       " u'kashmir',\n",
       " u'buonapartists',\n",
       " u'cossack',\n",
       " u'stael',\n",
       " u'nizhni',\n",
       " u'platoche',\n",
       " u'podolian',\n",
       " u'quay',\n",
       " u'margaux']"
      ]
     },
     "execution_count": 13,
     "metadata": {},
     "output_type": "execute_result"
    }
   ],
   "source": [
    "proper_nouns.take(50)"
   ]
  },
  {
   "cell_type": "markdown",
   "metadata": {},
   "source": [
    "### Learning activity: Partitions"
   ]
  },
  {
   "cell_type": "markdown",
   "metadata": {},
   "source": [
    "Load War and peace using a minimum of four partitions and use `getNumPartitions()` to show the resulting number used."
   ]
  },
  {
   "cell_type": "code",
   "execution_count": 14,
   "metadata": {
    "collapsed": false
   },
   "outputs": [
    {
     "name": "stdout",
     "output_type": "stream",
     "text": [
      "4\n"
     ]
    }
   ],
   "source": [
    "lines = sc.textFile(\"war-and-peace.txt\", minPartitions=4)\n",
    "print lines.getNumPartitions()"
   ]
  },
  {
   "cell_type": "markdown",
   "metadata": {},
   "source": [
    "# Key/Value pairs in Spark"
   ]
  },
  {
   "cell_type": "markdown",
   "metadata": {
    "collapsed": true
   },
   "source": [
    "### Learning activity: WordCount in Spark"
   ]
  },
  {
   "cell_type": "markdown",
   "metadata": {},
   "source": [
    "Use the functions `flatMap()` and `reduceByKey()` to count the number of occurences of each word in War and Peace, and print the count of five words."
   ]
  },
  {
   "cell_type": "code",
   "execution_count": 16,
   "metadata": {
    "collapsed": false
   },
   "outputs": [
    {
     "name": "stdout",
     "output_type": "stream",
     "text": [
      "The word \"aided\" was mentioned 1 times.\n",
      "The word \"Letting\" was mentioned 1 times.\n",
      "The word \"Saints\" was mentioned 1 times.\n",
      "The word \"divinely\" was mentioned 1 times.\n",
      "The word \"images\" was mentioned 3 times.\n"
     ]
    }
   ],
   "source": [
    "words = lines.flatMap(lambda line: get_words(line))\n",
    "word_pairs = words.map(lambda word: (word, 1))\n",
    "word_counts = word_pairs.reduceByKey(lambda c1, c2: c1 + c2)\n",
    "for wc in word_counts.take(5):\n",
    "    print 'The word \"%s\" was mentioned %d times.' % (wc[0], wc[1])"
   ]
  },
  {
   "cell_type": "markdown",
   "metadata": {},
   "source": [
    "### Learning activity: using `groupByKey()`"
   ]
  },
  {
   "cell_type": "markdown",
   "metadata": {},
   "source": [
    "Reimplement the above word count using `groupByKey()` instead of `reduceByKey()`"
   ]
  },
  {
   "cell_type": "markdown",
   "metadata": {},
   "source": [
    "### Learning activity: computing the average of each key"
   ]
  },
  {
   "cell_type": "markdown",
   "metadata": {},
   "source": [
    "The pair RDD defined below `word_line_pairs` has an element for each line in War and Peace with as key the first word, and as value the line itself. Use it to compute the average length of each line for each starting word."
   ]
  },
  {
   "cell_type": "code",
   "execution_count": 18,
   "metadata": {
    "collapsed": true
   },
   "outputs": [],
   "source": [
    "word_lines_pairs = lines.map(lambda l: (get_words(l)[0], l))"
   ]
  },
  {
   "cell_type": "markdown",
   "metadata": {},
   "source": [
    "# Spark in Practice"
   ]
  },
  {
   "cell_type": "markdown",
   "metadata": {},
   "source": [
    "### Learning activity: Use an accumulator\n",
    "Reimplement the definition of the `word` (re-expressed below) RDD to count blank lines as you process it."
   ]
  },
  {
   "cell_type": "code",
   "execution_count": null,
   "metadata": {
    "collapsed": true
   },
   "outputs": [],
   "source": [
    "# Old definition of words\n",
    "words = lines.flatMap(lambda line: get_words(line))"
   ]
  },
  {
   "cell_type": "code",
   "execution_count": null,
   "metadata": {
    "collapsed": true
   },
   "outputs": [],
   "source": []
  },
  {
   "cell_type": "markdown",
   "metadata": {},
   "source": [
    "### Learning activity: Implement the same program with an action"
   ]
  },
  {
   "cell_type": "code",
   "execution_count": null,
   "metadata": {
    "collapsed": true
   },
   "outputs": [],
   "source": []
  },
  {
   "cell_type": "markdown",
   "metadata": {},
   "source": [
    "### Learning activity: compare the amount of data shuffled with SparkUI\n",
    "Using Spark UI, compare the amount of data shuffled by each of the following two (equivalent) computations:"
   ]
  },
  {
   "cell_type": "code",
   "execution_count": 17,
   "metadata": {
    "collapsed": false
   },
   "outputs": [
    {
     "data": {
      "text/plain": [
       "4536"
      ]
     },
     "execution_count": 17,
     "metadata": {},
     "output_type": "execute_result"
    }
   ],
   "source": [
    "distinct_words = words.distinct()\n",
    "short_distinct_words = distinct_words.filter(lambda x: len(x)<6)\n",
    "short_distinct_words.count()"
   ]
  },
  {
   "cell_type": "code",
   "execution_count": 18,
   "metadata": {
    "collapsed": false
   },
   "outputs": [
    {
     "data": {
      "text/plain": [
       "4536"
      ]
     },
     "execution_count": 18,
     "metadata": {},
     "output_type": "execute_result"
    }
   ],
   "source": [
    "short_words = words.filter(lambda x: len(x)<6)\n",
    "short_distinct_words = short_words.distinct()\n",
    "short_distinct_words.count()"
   ]
  },
  {
   "cell_type": "markdown",
   "metadata": {},
   "source": [
    "Similarly, re-execute the two versions of word count you implemented before and compare the amount of data shuffled using `reduceByKey()` and using `groupByKey()`."
   ]
  },
  {
   "cell_type": "code",
   "execution_count": null,
   "metadata": {
    "collapsed": true
   },
   "outputs": [],
   "source": []
  }
 ],
 "metadata": {
  "kernelspec": {
   "display_name": "Python 2",
   "language": "python",
   "name": "python2"
  },
  "language_info": {
   "codemirror_mode": {
    "name": "ipython",
    "version": 2
   },
   "file_extension": ".py",
   "mimetype": "text/x-python",
   "name": "python",
   "nbconvert_exporter": "python",
   "pygments_lexer": "ipython2",
   "version": "2.7.11"
  }
 },
 "nbformat": 4,
 "nbformat_minor": 0
}
